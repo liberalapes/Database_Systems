{
 "cells": [
  {
   "cell_type": "markdown",
   "metadata": {
    "collapsed": true,
    "pycharm": {
     "name": "#%% md\n"
    }
   },
   "source": [
    "# 데이터베이스 시스템 Database Systems\n",
    "---\n",
    "## 제5장 SQL\n",
    "### 1. SQL 개요\n",
    "### 2. MySQL 서버 연결 및 SQL 에디터 구성\n",
    "### 3. 데이터 정의 언어\n",
    "### 4. 데이터 조작\n",
    "### 5. 뷰의 사용\n",
    "---"
   ]
  }
 ],
 "metadata": {
  "kernelspec": {
   "display_name": "Python 3",
   "language": "python",
   "name": "python3"
  },
  "language_info": {
   "codemirror_mode": {
    "name": "ipython",
    "version": 2
   },
   "file_extension": ".py",
   "mimetype": "text/x-python",
   "name": "python",
   "nbconvert_exporter": "python",
   "pygments_lexer": "ipython2",
   "version": "2.7.6"
  },
  "pycharm": {
   "stem_cell": {
    "cell_type": "raw",
    "source": [],
    "metadata": {
     "collapsed": false
    }
   }
  }
 },
 "nbformat": 4,
 "nbformat_minor": 0
}
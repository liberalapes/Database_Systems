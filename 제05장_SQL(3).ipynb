{
 "cells": [
  {
   "cell_type": "code",
   "metadata": {
    "collapsed": true,
    "pycharm": {
     "name": "#%% \n",
     "is_executing": false
    }
   },
   "source": [
    "#-*- coding:utf-8 -*-"
   ],
   "execution_count": 16,
   "outputs": []
  },
  {
   "cell_type": "markdown",
   "source": [
    "# 데이터베이스 시스템 Database Systems\n",
    "---\n",
    "## 제5장 SQL\n",
    "### 1. SQL 개요\n",
    "### 2. MySQL 서버 연결 및 SQL 에디터 구성\n",
    "### 3. 데이터 정의 언어\n",
    "### 4. 데이터 조작\n",
    "### 5. 뷰의 사용\n",
    "---"
   ],
   "metadata": {
    "collapsed": false,
    "pycharm": {
     "name": "#%% md\n"
    }
   }
  },
  {
   "cell_type": "markdown",
   "source": [
    "### 4. 데이터 조작\n",
    "#### 5.4.4 SELECT 문\n",
    "- SELECT 문 : 한 개 또는 그 이상의 테이블에서 필요한 데이터를 검색하는 데 사용하는 명령어"
   ],
   "metadata": {
    "collapsed": false
   }
  },
  {
   "cell_type": "markdown",
   "source": [
    "##### (1) SELECT 절\n",
    "- 질의 결과에 포함되는 컬럼을 지정\n",
    "- DISTINCT : unique 값으로 출력\n",
    "- 컬럼, 함수, 수식, 상수 등의 위치\n",
    "- 컬럼의 나열이 없을 경우 FROM 절 생략가능 "
   ],
   "metadata": {
    "collapsed": false
   }
  },
  {
   "cell_type": "markdown",
   "source": [
    "##### (2) FROM 절\n",
    "- 질의를 적용할 테이블을 지정\n",
    "- FROM 2개 이상의 테이블을 위치 후 CROSS JOIN, INNER JOIN, LEFT JOIN, RIGHT OURER JOIN, FULL OUTER JOIN으로 사용 가능\n",
    "- 컬럼명은 '테이블명.컬럼이름' 형태로 작성\n",
    "- 별칭(aliasing)을 사용하여 테이블명을 간결하게 함축 가능 "
   ],
   "metadata": {
    "collapsed": false
   }
  },
  {
   "cell_type": "markdown",
   "source": [
    "##### (3) ON 절\n",
    "- JOIN 연산 시 테이블 간의 조인 방법을 기술\n",
    "- 기본키-외래키 참조 관계로 기술\n",
    "- 비교 연산자를 사용하여 비동등조인(non-wqui-join) 활용 가능  "
   ],
   "metadata": {
    "collapsed": false
   }
  },
  {
   "cell_type": "markdown",
   "source": [
    "##### (4) WHERE 절\n",
    "- 레코드에 대한 특정 검색 조건을 기술\n",
    "- 전체 레코드를 검색 할 경우 생략\n",
    "- 조건문에 컬럼이름과 함께 산술, 비교, 논리 연산자 등 사용 가능 "
   ],
   "metadata": {
    "collapsed": false
   }
  },
  {
   "cell_type": "markdown",
   "source": [
    "##### (5) GROUP BY 절\n",
    "- 특정 컬럼을 기준으로 동일한 값끼리 그룹으로 묶어 요약된 결과를 검색\n",
    "- COUNT, MIN, MAX, SUM, AVG 등의 집계함수가 사용"
   ],
   "metadata": {
    "collapsed": false
   }
  },
  {
   "cell_type": "markdown",
   "source": [
    "##### (6) HAVING 절\n",
    "- GROUP BY에 의해 묶인 그룹 내에서 조건으로 검색할 때 사용\n",
    "- GROUP BY가 존재할 때 질의문에서만 사용 가능 "
   ],
   "metadata": {
    "collapsed": false
   }
  },
  {
   "cell_type": "markdown",
   "source": [
    "##### (7) ORDER BY 절\n",
    "- 검색결과를 특정 컬럼을 기준으로 ASC, DESC 키워드로 오름차순, 내림차순으로 정렬 시 사용\n",
    "\n",
    "###### 1) 단순질의문\n",
    "\n",
    "```\n",
    "SELECT col1, col2, coln \n",
    "    FROM table_name;\n",
    "```"
   ],
   "metadata": {
    "collapsed": false
   }
  },
  {
   "cell_type": "markdown",
   "source": [
    "- [실습 예제 5-11] 교수 테이블에서 '소속학과' 컬럼을 선택하여 출력하라\n",
    "\n",
    "```\n",
    "SELECT '소속학과' FROM '교수'; # 중복 허용\n",
    "SELECT DISTINCT '소속학과' FROM '교수'; # 중복 제거 \n",
    "\n",
    "```\n",
    "- 컬럼의 제한 없이 모든 레코드를 검색 : 모든(all)을 의미하는 기호(*) 사용\n",
    "    - 테이블 생성 시 정의된 컬럼의 순서와 동일\n",
    "\n",
    "```\n",
    "SELECT * FROM '교수'; \n",
    "```"
   ],
   "metadata": {
    "collapsed": false,
    "pycharm": {
     "name": "#%% md\n"
    }
   }
  },
  {
   "cell_type": "markdown",
   "source": [
    "###### 2) 조건질의문\n",
    "- 조건을 만족하는 일부 레코드만 선택적으로 검색\n",
    "\n",
    "```\n",
    "SELECT col1, col2, coln\n",
    "    FROM table_name\n",
    "    WHERE condition;\n",
    "```\n",
    "\n",
    "- [실습 예제 5-13] 이수구분이 '전공필수'인 과목의 과목명, 학점, 선수과목을 출력하라.\n",
    "\n",
    "```\n",
    "SELECT 과목명, 확점, 선수과목 \n",
    "    FROM 과목\n",
    "    WHERE 이수구분 = '전공필수'; \n",
    "```\n",
    "\n",
    "- [실습 예제 5-14] 나이가 40세 이하인 학생의 모든 정보를 출력하라\n",
    "\n",
    "```\n",
    "SELECT * \n",
    "    FROM 학생\n",
    "    WHERE 나이 <= 40; \n",
    "```\n",
    "\n",
    "- [실습 예저 5-15] 남학생이며 2000년 이전에 태어난 학생의 학생번호, 학생이름, 전화번호, 나이를 출력하라\n",
    "\n",
    "```\n",
    "SELECT 학생번호, 학생이름, 전화번호, 나이\n",
    "    FROM 학생\n",
    "    WHERE 성별 = '남' and 생년월일 < '2000-01-01';\n",
    "```"
   ],
   "metadata": {
    "collapsed": false,
    "pycharm": {
     "name": "#%% md\n"
    }
   }
  }
 ],
 "metadata": {
  "kernelspec": {
   "display_name": "Python 3",
   "language": "python",
   "name": "python3"
  },
  "language_info": {
   "codemirror_mode": {
    "name": "ipython",
    "version": 2
   },
   "file_extension": ".py",
   "mimetype": "text/x-python",
   "name": "python",
   "nbconvert_exporter": "python",
   "pygments_lexer": "ipython2",
   "version": "2.7.6"
  },
  "pycharm": {
   "stem_cell": {
    "cell_type": "raw",
    "source": [],
    "metadata": {
     "collapsed": false
    }
   }
  }
 },
 "nbformat": 4,
 "nbformat_minor": 0
}